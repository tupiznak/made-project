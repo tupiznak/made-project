version https://git-lfs.github.com/spec/v1
oid sha256:93cf05136833b05b623c81a64a3cf17fc6ce687405cc7d5f524a3ba93eb71ea6
size 193464
