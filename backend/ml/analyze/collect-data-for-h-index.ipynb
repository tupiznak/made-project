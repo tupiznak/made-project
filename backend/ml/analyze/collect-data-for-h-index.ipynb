{
 "cells": [
  {
   "cell_type": "code",
   "execution_count": 4,
   "id": "fd1667dc",
   "metadata": {},
   "outputs": [],
   "source": [
    "import pandas as pd"
   ]
  },
  {
   "cell_type": "markdown",
   "id": "5419061e",
   "metadata": {},
   "source": [
    "### Function for filling dictionaries"
   ]
  },
  {
   "cell_type": "code",
   "execution_count": 23,
   "id": "40bc578c",
   "metadata": {},
   "outputs": [],
   "source": [
    "def analyse_part_bd(part, author_id_name, author_articles, author_n_citations, article_citations):\n",
    "    '''\n",
    "    Arguments (also a return, except pandas df):\n",
    "        part - pandas data frame which is a part of the whole dataset\n",
    "        arguments are also return (except pandas df)!\n",
    "        author_id_name -  dict: {'author_id': 'author_name'}\n",
    "        author_articles - dict: {'author_id': ['aothor's articles id's]}\n",
    "        author_n_citations - dict: {'author_id': [n_citations_i, ...]}\n",
    "        article_citations - dict: {'article_id': ['id's of articels^ which used 'article_id' as reference]}\n",
    "    '''\n",
    "    for ind, article in part.iterrows():  # iterating over all rows (articles)\n",
    "        article_id = article['_id']  # id of this article\n",
    "        n_citation = article['n_citation']  # number of citations\n",
    "        authors = article['authors']\n",
    "        if isinstance(authors, list):\n",
    "            for author in authors:  # see all authors of the article\n",
    "                # print(author)\n",
    "                if bool(author):  # if author is not empty {}\n",
    "                    if 'name' in author.keys():\n",
    "                        author_name = author['name']\n",
    "                    else:  # if author doesn't have key 'name'\n",
    "                        author_name = None\n",
    "                    if '_id' in author.keys():\n",
    "                        author_id = author['_id']\n",
    "                    else:  # if author doesn't have key '_id'\n",
    "                        if 'orgid' in author.keys():  # some authors has key 'orgig' instead of '_id'\n",
    "                            author_id = author['orgid']\n",
    "                        else:\n",
    "                            if author_name is None:  # there is no any keys: 'name', '_id', 'orgig'\n",
    "                                # print(author)  # print damaged author\n",
    "                                continue  # this author is damaged: look at the NEXT author!\n",
    "                            else:\n",
    "                                author_id = author_name.replace(\" \", \"\")  # create key from name\n",
    "\n",
    "                    # author_id_name: {'author_id': 'author_name'}\n",
    "                    if (not author_id in author_id_name.keys()) or (author_id_name[author_id] is None):  # add author\n",
    "                        author_id_name[author_id] = author_name\n",
    "\n",
    "                    # author_articles: {'author_id': [list of articles id's]}\n",
    "                    # author_n_citations: {'author_id': [list of n_citations]}\n",
    "                    if not author_id in author_articles.keys():\n",
    "                        author_articles[author_id] = []  # create key and add article to the author\n",
    "                        author_n_citations[author_id] = []  # ceate list and add n_citations for the article\n",
    "                    if not article_id in author_articles[author_id]:\n",
    "                        author_articles[author_id].append(article_id)  # add article to the author\n",
    "                        author_n_citations[author_id].append(n_citation)\n",
    "\n",
    "            # go through referencies\n",
    "            # article_citations: {'article_id': [list of articles id's which used it as reference]}\n",
    "            if False:  # skip for now - seems like too long operations!\n",
    "                if not article_id in article_citations.keys():\n",
    "                    article_citations[article_id] = []\n",
    "                for ref_id in article['references']:\n",
    "                    if not ref_id in article_citations.keys():\n",
    "                        article_citations[ref_id] = []  # this article (article_id) cited the ref_id\n",
    "                    if not article_id in article_citations[ref_id]:\n",
    "                        article_citations[ref_id].append(article_id)\n",
    "        else:\n",
    "            # print(authors)\n",
    "            articles_no_author.append(article_id)  # add to list \n",
    "            # print(f\"ValueError: {article['authors']=}\")\n",
    "    return (author_id_name, author_articles, author_n_citations, article_citations)"
   ]
  },
  {
   "cell_type": "markdown",
   "id": "f070a07c",
   "metadata": {},
   "source": [
    "### Creation of dictionaries to store specific data:"
   ]
  },
  {
   "cell_type": "code",
   "execution_count": 19,
   "id": "86304f21",
   "metadata": {},
   "outputs": [],
   "source": [
    "author_id_name = {}  # author's name by id\n",
    "author_articles = {}  # authors articles by id (key: author_id, value: list of articles id)\n",
    "\n",
    "author_n_citations = {}  # key: author_id, value: list of int(n_citations) of all his articles!\n",
    "article_citations = {}  # article's citations by article's id (key: article_id, value: list of articles id)\n",
    "\n",
    "articles_no_author = []  # articles with NaN author "
   ]
  },
  {
   "cell_type": "code",
   "execution_count": 8,
   "id": "00593501",
   "metadata": {},
   "outputs": [],
   "source": [
    "n_parts = 108"
   ]
  },
  {
   "cell_type": "code",
   "execution_count": 5,
   "id": "a8e1cb5b",
   "metadata": {},
   "outputs": [],
   "source": [
    "from ipywidgets import IntProgress\n",
    "from IPython.display import display\n",
    "import time"
   ]
  },
  {
   "cell_type": "code",
   "execution_count": 27,
   "id": "4fae4e68",
   "metadata": {},
   "outputs": [],
   "source": [
    "progress_bar = IntProgress(min=0, max=n_parts) # instantiate the bar"
   ]
  },
  {
   "cell_type": "markdown",
   "id": "6cb25b3e",
   "metadata": {},
   "source": [
    "### Going through all batches and filling the dictionaries:"
   ]
  },
  {
   "cell_type": "code",
   "execution_count": 28,
   "id": "73d97be3",
   "metadata": {},
   "outputs": [
    {
     "data": {
      "application/vnd.jupyter.widget-view+json": {
       "model_id": "c2262e81da334f56adba0a44f95ab8a1",
       "version_major": 2,
       "version_minor": 0
      },
      "text/plain": [
       "IntProgress(value=0, max=108)"
      ]
     },
     "metadata": {},
     "output_type": "display_data"
    },
    {
     "ename": "ValueError",
     "evalue": "Expected object or value",
     "output_type": "error",
     "traceback": [
      "\u001b[0;31m---------------------------------------------------------------------------\u001b[0m",
      "\u001b[0;31mValueError\u001b[0m                                Traceback (most recent call last)",
      "\u001b[0;32m<ipython-input-28-c0ce2a0908a0>\u001b[0m in \u001b[0;36m<module>\u001b[0;34m\u001b[0m\n\u001b[1;32m      1\u001b[0m \u001b[0mdisplay\u001b[0m\u001b[0;34m(\u001b[0m\u001b[0mprogress_bar\u001b[0m\u001b[0;34m)\u001b[0m\u001b[0;34m\u001b[0m\u001b[0;34m\u001b[0m\u001b[0m\n\u001b[1;32m      2\u001b[0m \u001b[0;32mfor\u001b[0m \u001b[0mind_part\u001b[0m \u001b[0;32min\u001b[0m \u001b[0mrange\u001b[0m\u001b[0;34m(\u001b[0m\u001b[0mn_parts\u001b[0m\u001b[0;34m)\u001b[0m\u001b[0;34m:\u001b[0m\u001b[0;34m\u001b[0m\u001b[0;34m\u001b[0m\u001b[0m\n\u001b[0;32m----> 3\u001b[0;31m     \u001b[0mpart_i\u001b[0m \u001b[0;34m=\u001b[0m \u001b[0mpd\u001b[0m\u001b[0;34m.\u001b[0m\u001b[0mread_json\u001b[0m\u001b[0;34m(\u001b[0m\u001b[0;34mf\"data/dblpv13_{ind_part}.json\"\u001b[0m\u001b[0;34m)\u001b[0m\u001b[0;34m\u001b[0m\u001b[0;34m\u001b[0m\u001b[0m\n\u001b[0m\u001b[1;32m      4\u001b[0m     \u001b[0;34m(\u001b[0m\u001b[0mauthor_id_name\u001b[0m\u001b[0;34m,\u001b[0m \u001b[0mauthor_articles\u001b[0m\u001b[0;34m,\u001b[0m \u001b[0mauthor_n_citations\u001b[0m\u001b[0;34m,\u001b[0m \u001b[0marticle_citations\u001b[0m\u001b[0;34m)\u001b[0m \u001b[0;34m=\u001b[0m\u001b[0;31m \u001b[0m\u001b[0;31m\\\u001b[0m\u001b[0;34m\u001b[0m\u001b[0;34m\u001b[0m\u001b[0m\n\u001b[1;32m      5\u001b[0m                 \u001b[0manalyse_part_bd\u001b[0m\u001b[0;34m(\u001b[0m\u001b[0mpart_i\u001b[0m\u001b[0;34m,\u001b[0m \u001b[0mauthor_id_name\u001b[0m\u001b[0;34m,\u001b[0m \u001b[0mauthor_articles\u001b[0m\u001b[0;34m,\u001b[0m \u001b[0mauthor_n_citations\u001b[0m\u001b[0;34m,\u001b[0m \u001b[0marticle_citations\u001b[0m\u001b[0;34m)\u001b[0m\u001b[0;34m\u001b[0m\u001b[0;34m\u001b[0m\u001b[0m\n",
      "\u001b[0;32m/opt/anaconda3/lib/python3.8/site-packages/pandas/util/_decorators.py\u001b[0m in \u001b[0;36mwrapper\u001b[0;34m(*args, **kwargs)\u001b[0m\n\u001b[1;32m    209\u001b[0m                 \u001b[0;32melse\u001b[0m\u001b[0;34m:\u001b[0m\u001b[0;34m\u001b[0m\u001b[0;34m\u001b[0m\u001b[0m\n\u001b[1;32m    210\u001b[0m                     \u001b[0mkwargs\u001b[0m\u001b[0;34m[\u001b[0m\u001b[0mnew_arg_name\u001b[0m\u001b[0;34m]\u001b[0m \u001b[0;34m=\u001b[0m \u001b[0mnew_arg_value\u001b[0m\u001b[0;34m\u001b[0m\u001b[0;34m\u001b[0m\u001b[0m\n\u001b[0;32m--> 211\u001b[0;31m             \u001b[0;32mreturn\u001b[0m \u001b[0mfunc\u001b[0m\u001b[0;34m(\u001b[0m\u001b[0;34m*\u001b[0m\u001b[0margs\u001b[0m\u001b[0;34m,\u001b[0m \u001b[0;34m**\u001b[0m\u001b[0mkwargs\u001b[0m\u001b[0;34m)\u001b[0m\u001b[0;34m\u001b[0m\u001b[0;34m\u001b[0m\u001b[0m\n\u001b[0m\u001b[1;32m    212\u001b[0m \u001b[0;34m\u001b[0m\u001b[0m\n\u001b[1;32m    213\u001b[0m         \u001b[0;32mreturn\u001b[0m \u001b[0mcast\u001b[0m\u001b[0;34m(\u001b[0m\u001b[0mF\u001b[0m\u001b[0;34m,\u001b[0m \u001b[0mwrapper\u001b[0m\u001b[0;34m)\u001b[0m\u001b[0;34m\u001b[0m\u001b[0;34m\u001b[0m\u001b[0m\n",
      "\u001b[0;32m/opt/anaconda3/lib/python3.8/site-packages/pandas/util/_decorators.py\u001b[0m in \u001b[0;36mwrapper\u001b[0;34m(*args, **kwargs)\u001b[0m\n\u001b[1;32m    315\u001b[0m                     \u001b[0mstacklevel\u001b[0m\u001b[0;34m=\u001b[0m\u001b[0mfind_stack_level\u001b[0m\u001b[0;34m(\u001b[0m\u001b[0minspect\u001b[0m\u001b[0;34m.\u001b[0m\u001b[0mcurrentframe\u001b[0m\u001b[0;34m(\u001b[0m\u001b[0;34m)\u001b[0m\u001b[0;34m)\u001b[0m\u001b[0;34m,\u001b[0m\u001b[0;34m\u001b[0m\u001b[0;34m\u001b[0m\u001b[0m\n\u001b[1;32m    316\u001b[0m                 )\n\u001b[0;32m--> 317\u001b[0;31m             \u001b[0;32mreturn\u001b[0m \u001b[0mfunc\u001b[0m\u001b[0;34m(\u001b[0m\u001b[0;34m*\u001b[0m\u001b[0margs\u001b[0m\u001b[0;34m,\u001b[0m \u001b[0;34m**\u001b[0m\u001b[0mkwargs\u001b[0m\u001b[0;34m)\u001b[0m\u001b[0;34m\u001b[0m\u001b[0;34m\u001b[0m\u001b[0m\n\u001b[0m\u001b[1;32m    318\u001b[0m \u001b[0;34m\u001b[0m\u001b[0m\n\u001b[1;32m    319\u001b[0m         \u001b[0;32mreturn\u001b[0m \u001b[0mwrapper\u001b[0m\u001b[0;34m\u001b[0m\u001b[0;34m\u001b[0m\u001b[0m\n",
      "\u001b[0;32m/opt/anaconda3/lib/python3.8/site-packages/pandas/io/json/_json.py\u001b[0m in \u001b[0;36mread_json\u001b[0;34m(path_or_buf, orient, typ, dtype, convert_axes, convert_dates, keep_default_dates, numpy, precise_float, date_unit, encoding, encoding_errors, lines, chunksize, compression, nrows, storage_options)\u001b[0m\n\u001b[1;32m    755\u001b[0m \u001b[0;34m\u001b[0m\u001b[0m\n\u001b[1;32m    756\u001b[0m     \u001b[0;32mwith\u001b[0m \u001b[0mjson_reader\u001b[0m\u001b[0;34m:\u001b[0m\u001b[0;34m\u001b[0m\u001b[0;34m\u001b[0m\u001b[0m\n\u001b[0;32m--> 757\u001b[0;31m         \u001b[0;32mreturn\u001b[0m \u001b[0mjson_reader\u001b[0m\u001b[0;34m.\u001b[0m\u001b[0mread\u001b[0m\u001b[0;34m(\u001b[0m\u001b[0;34m)\u001b[0m\u001b[0;34m\u001b[0m\u001b[0;34m\u001b[0m\u001b[0m\n\u001b[0m\u001b[1;32m    758\u001b[0m \u001b[0;34m\u001b[0m\u001b[0m\n\u001b[1;32m    759\u001b[0m \u001b[0;34m\u001b[0m\u001b[0m\n",
      "\u001b[0;32m/opt/anaconda3/lib/python3.8/site-packages/pandas/io/json/_json.py\u001b[0m in \u001b[0;36mread\u001b[0;34m(self)\u001b[0m\n\u001b[1;32m    913\u001b[0m                 \u001b[0mobj\u001b[0m \u001b[0;34m=\u001b[0m \u001b[0mself\u001b[0m\u001b[0;34m.\u001b[0m\u001b[0m_get_object_parser\u001b[0m\u001b[0;34m(\u001b[0m\u001b[0mself\u001b[0m\u001b[0;34m.\u001b[0m\u001b[0m_combine_lines\u001b[0m\u001b[0;34m(\u001b[0m\u001b[0mdata_lines\u001b[0m\u001b[0;34m)\u001b[0m\u001b[0;34m)\u001b[0m\u001b[0;34m\u001b[0m\u001b[0;34m\u001b[0m\u001b[0m\n\u001b[1;32m    914\u001b[0m         \u001b[0;32melse\u001b[0m\u001b[0;34m:\u001b[0m\u001b[0;34m\u001b[0m\u001b[0;34m\u001b[0m\u001b[0m\n\u001b[0;32m--> 915\u001b[0;31m             \u001b[0mobj\u001b[0m \u001b[0;34m=\u001b[0m \u001b[0mself\u001b[0m\u001b[0;34m.\u001b[0m\u001b[0m_get_object_parser\u001b[0m\u001b[0;34m(\u001b[0m\u001b[0mself\u001b[0m\u001b[0;34m.\u001b[0m\u001b[0mdata\u001b[0m\u001b[0;34m)\u001b[0m\u001b[0;34m\u001b[0m\u001b[0;34m\u001b[0m\u001b[0m\n\u001b[0m\u001b[1;32m    916\u001b[0m         \u001b[0mself\u001b[0m\u001b[0;34m.\u001b[0m\u001b[0mclose\u001b[0m\u001b[0;34m(\u001b[0m\u001b[0;34m)\u001b[0m\u001b[0;34m\u001b[0m\u001b[0;34m\u001b[0m\u001b[0m\n\u001b[1;32m    917\u001b[0m         \u001b[0;32mreturn\u001b[0m \u001b[0mobj\u001b[0m\u001b[0;34m\u001b[0m\u001b[0;34m\u001b[0m\u001b[0m\n",
      "\u001b[0;32m/opt/anaconda3/lib/python3.8/site-packages/pandas/io/json/_json.py\u001b[0m in \u001b[0;36m_get_object_parser\u001b[0;34m(self, json)\u001b[0m\n\u001b[1;32m    935\u001b[0m         \u001b[0mobj\u001b[0m \u001b[0;34m=\u001b[0m \u001b[0;32mNone\u001b[0m\u001b[0;34m\u001b[0m\u001b[0;34m\u001b[0m\u001b[0m\n\u001b[1;32m    936\u001b[0m         \u001b[0;32mif\u001b[0m \u001b[0mtyp\u001b[0m \u001b[0;34m==\u001b[0m \u001b[0;34m\"frame\"\u001b[0m\u001b[0;34m:\u001b[0m\u001b[0;34m\u001b[0m\u001b[0;34m\u001b[0m\u001b[0m\n\u001b[0;32m--> 937\u001b[0;31m             \u001b[0mobj\u001b[0m \u001b[0;34m=\u001b[0m \u001b[0mFrameParser\u001b[0m\u001b[0;34m(\u001b[0m\u001b[0mjson\u001b[0m\u001b[0;34m,\u001b[0m \u001b[0;34m**\u001b[0m\u001b[0mkwargs\u001b[0m\u001b[0;34m)\u001b[0m\u001b[0;34m.\u001b[0m\u001b[0mparse\u001b[0m\u001b[0;34m(\u001b[0m\u001b[0;34m)\u001b[0m\u001b[0;34m\u001b[0m\u001b[0;34m\u001b[0m\u001b[0m\n\u001b[0m\u001b[1;32m    938\u001b[0m \u001b[0;34m\u001b[0m\u001b[0m\n\u001b[1;32m    939\u001b[0m         \u001b[0;32mif\u001b[0m \u001b[0mtyp\u001b[0m \u001b[0;34m==\u001b[0m \u001b[0;34m\"series\"\u001b[0m \u001b[0;32mor\u001b[0m \u001b[0mobj\u001b[0m \u001b[0;32mis\u001b[0m \u001b[0;32mNone\u001b[0m\u001b[0;34m:\u001b[0m\u001b[0;34m\u001b[0m\u001b[0;34m\u001b[0m\u001b[0m\n",
      "\u001b[0;32m/opt/anaconda3/lib/python3.8/site-packages/pandas/io/json/_json.py\u001b[0m in \u001b[0;36mparse\u001b[0;34m(self)\u001b[0m\n\u001b[1;32m   1062\u001b[0m             \u001b[0mself\u001b[0m\u001b[0;34m.\u001b[0m\u001b[0m_parse_numpy\u001b[0m\u001b[0;34m(\u001b[0m\u001b[0;34m)\u001b[0m\u001b[0;34m\u001b[0m\u001b[0;34m\u001b[0m\u001b[0m\n\u001b[1;32m   1063\u001b[0m         \u001b[0;32melse\u001b[0m\u001b[0;34m:\u001b[0m\u001b[0;34m\u001b[0m\u001b[0;34m\u001b[0m\u001b[0m\n\u001b[0;32m-> 1064\u001b[0;31m             \u001b[0mself\u001b[0m\u001b[0;34m.\u001b[0m\u001b[0m_parse_no_numpy\u001b[0m\u001b[0;34m(\u001b[0m\u001b[0;34m)\u001b[0m\u001b[0;34m\u001b[0m\u001b[0;34m\u001b[0m\u001b[0m\n\u001b[0m\u001b[1;32m   1065\u001b[0m \u001b[0;34m\u001b[0m\u001b[0m\n\u001b[1;32m   1066\u001b[0m         \u001b[0;32mif\u001b[0m \u001b[0mself\u001b[0m\u001b[0;34m.\u001b[0m\u001b[0mobj\u001b[0m \u001b[0;32mis\u001b[0m \u001b[0;32mNone\u001b[0m\u001b[0;34m:\u001b[0m\u001b[0;34m\u001b[0m\u001b[0;34m\u001b[0m\u001b[0m\n",
      "\u001b[0;32m/opt/anaconda3/lib/python3.8/site-packages/pandas/io/json/_json.py\u001b[0m in \u001b[0;36m_parse_no_numpy\u001b[0;34m(self)\u001b[0m\n\u001b[1;32m   1319\u001b[0m         \u001b[0;32mif\u001b[0m \u001b[0morient\u001b[0m \u001b[0;34m==\u001b[0m \u001b[0;34m\"columns\"\u001b[0m\u001b[0;34m:\u001b[0m\u001b[0;34m\u001b[0m\u001b[0;34m\u001b[0m\u001b[0m\n\u001b[1;32m   1320\u001b[0m             self.obj = DataFrame(\n\u001b[0;32m-> 1321\u001b[0;31m                 \u001b[0mloads\u001b[0m\u001b[0;34m(\u001b[0m\u001b[0mjson\u001b[0m\u001b[0;34m,\u001b[0m \u001b[0mprecise_float\u001b[0m\u001b[0;34m=\u001b[0m\u001b[0mself\u001b[0m\u001b[0;34m.\u001b[0m\u001b[0mprecise_float\u001b[0m\u001b[0;34m)\u001b[0m\u001b[0;34m,\u001b[0m \u001b[0mdtype\u001b[0m\u001b[0;34m=\u001b[0m\u001b[0;32mNone\u001b[0m\u001b[0;34m\u001b[0m\u001b[0;34m\u001b[0m\u001b[0m\n\u001b[0m\u001b[1;32m   1322\u001b[0m             )\n\u001b[1;32m   1323\u001b[0m         \u001b[0;32melif\u001b[0m \u001b[0morient\u001b[0m \u001b[0;34m==\u001b[0m \u001b[0;34m\"split\"\u001b[0m\u001b[0;34m:\u001b[0m\u001b[0;34m\u001b[0m\u001b[0;34m\u001b[0m\u001b[0m\n",
      "\u001b[0;31mValueError\u001b[0m: Expected object or value"
     ]
    }
   ],
   "source": [
    "display(progress_bar)\n",
    "for ind_part in range(n_parts):\n",
    "    part_i = pd.read_json(f\"data/dblpv13_{ind_part}.json\")\n",
    "    (author_id_name, author_articles, author_n_citations, article_citations) = \\\n",
    "                analyse_part_bd(part_i, author_id_name, author_articles, author_n_citations, article_citations)\n",
    "    progress_bar.value = ind_part"
   ]
  },
  {
   "cell_type": "markdown",
   "id": "c223aff2",
   "metadata": {},
   "source": [
    "**For some reason, a couple of batches were not processed!**"
   ]
  },
  {
   "cell_type": "code",
   "execution_count": 30,
   "id": "68fa366d",
   "metadata": {},
   "outputs": [
    {
     "data": {
      "text/plain": [
       "4362827"
      ]
     },
     "execution_count": 30,
     "metadata": {},
     "output_type": "execute_result"
    }
   ],
   "source": [
    "len(author_id_name.keys())"
   ]
  },
  {
   "cell_type": "code",
   "execution_count": 2,
   "id": "fe40ddc5",
   "metadata": {},
   "outputs": [],
   "source": [
    "import json"
   ]
  },
  {
   "cell_type": "markdown",
   "id": "560cb6b9",
   "metadata": {},
   "source": [
    "### Saving the dictionaries"
   ]
  },
  {
   "cell_type": "code",
   "execution_count": 35,
   "id": "aeee49b8",
   "metadata": {},
   "outputs": [],
   "source": [
    "with open('author_id_name.json', 'w') as fp:\n",
    "    json.dump(author_id_name, fp)"
   ]
  },
  {
   "cell_type": "code",
   "execution_count": 36,
   "id": "49039959",
   "metadata": {},
   "outputs": [],
   "source": [
    "with open('author_n_citations.json', 'w') as fp:\n",
    "    json.dump(author_n_citations, fp)"
   ]
  },
  {
   "cell_type": "code",
   "execution_count": 37,
   "id": "bfaf640e",
   "metadata": {},
   "outputs": [],
   "source": [
    "with open('author_articles.json', 'w') as fp:\n",
    "    json.dump(author_articles, fp)"
   ]
  },
  {
   "cell_type": "code",
   "execution_count": 23,
   "id": "fad7b6c2",
   "metadata": {},
   "outputs": [
    {
     "data": {
      "text/plain": [
       "_id                                    53e9982cb7602d97020524cd\n",
       "title                                  Persistent OSPF Attacks.\n",
       "authors       [{'_id': '53f463d9dabfaedf4363bdf5', 'name': '...\n",
       "venue         {'_id': '555037607cea80f954183648', 'raw': 'ND...\n",
       "year                                                       2012\n",
       "keywords                                                     []\n",
       "fos           [Open Shortest Path First, Eavesdropping, Man-...\n",
       "n_citation                                                 27.0\n",
       "lang                                                         en\n",
       "pdf                                                            \n",
       "url           [http://www.internetsociety.org/persistent-osp...\n",
       "references    [53e9a33db7602d9702c48b6f, 53e99ffcb7602d97028...\n",
       "page_start                                                  NaN\n",
       "page_end                                                    NaN\n",
       "volume                                                      NaN\n",
       "issue                                                       NaN\n",
       "issn                                                        NaN\n",
       "isbn                                                        NaN\n",
       "doi                                                         NaN\n",
       "abstract                                                    NaN\n",
       "Name: 0, dtype: object"
      ]
     },
     "execution_count": 23,
     "metadata": {},
     "output_type": "execute_result"
    }
   ],
   "source": [
    "part.loc[0]"
   ]
  },
  {
   "cell_type": "markdown",
   "id": "932fb7d4",
   "metadata": {},
   "source": [
    "## Studying connections"
   ]
  },
  {
   "cell_type": "markdown",
   "id": "fcfe39c0",
   "metadata": {},
   "source": [
    "Let's form arrays of points to find the relationship between the average _**h-index**_ of the authors of the article and its _**n_citations**_"
   ]
  },
  {
   "cell_type": "markdown",
   "id": "b0f85c17",
   "metadata": {},
   "source": [
    "Reading an already created dictionary of _**h-idexes**_:"
   ]
  },
  {
   "cell_type": "code",
   "execution_count": 27,
   "id": "d13749bb",
   "metadata": {},
   "outputs": [],
   "source": [
    "with open('author_id_hindex.json') as json_file:  # load file\n",
    "    # key: author_id, value: list of int(n_citations) of all his articles!\n",
    "    author_id_hindex_json = json.load(json_file)"
   ]
  },
  {
   "cell_type": "code",
   "execution_count": 28,
   "id": "6f243798",
   "metadata": {},
   "outputs": [],
   "source": [
    "citations_lst = []\n",
    "average_hindex_lst = []\n",
    "articles_no_author = []"
   ]
  },
  {
   "cell_type": "code",
   "execution_count": 29,
   "id": "8214c23f",
   "metadata": {},
   "outputs": [],
   "source": [
    "def connection_citations_hindex(part, author_id_hindex_json, citations, average_hindex_lst, articles_no_author):\n",
    "    '''\n",
    "    Arguments (also a return, except pandas df):\n",
    "        author_n_citations_json - dict: {'author_id': [n_citations_i, ...]}\n",
    "        citations - list of articles n_citations\n",
    "        average_hindex_lst - list of average h-index of the authors h-indeces\n",
    "    '''\n",
    "    for ind, article in part.iterrows():  # iterating over all rows (articles)\n",
    "        article_id = article['_id']  # id of this article\n",
    "        n_citation = article['n_citation']  # number of citations\n",
    "        authors = article['authors']\n",
    "        n_authors = 0\n",
    "        h_index_sum = 0\n",
    "        if isinstance(authors, list):\n",
    "            for author in authors:  # see all authors of the article\n",
    "                if bool(author):  # if author is not empty {}\n",
    "                    if 'name' in author.keys():\n",
    "                        author_name = author['name']\n",
    "                    else:  # if author doesn't have key 'name'\n",
    "                        author_name = None\n",
    "                    if '_id' in author.keys():\n",
    "                        author_id = author['_id']\n",
    "                    else:  # if author doesn't have key '_id'\n",
    "                        if 'orgid' in author.keys():  # some authors has key 'orgig' instead of '_id'\n",
    "                            author_id = author['orgid']\n",
    "                        else:\n",
    "                            if author_name is None:  # there is no any keys: 'name', '_id', 'orgig'\n",
    "                                n_authors += 1  # print damaged author\n",
    "                                continue  # this author is damaged: look at the NEXT author!\n",
    "                            else:\n",
    "                                author_id = author_name.replace(\" \", \"\")  # create key from name\n",
    "                    \n",
    "                    n_authors += 1\n",
    "                    author_h_index = author_id_hindex_json[author_id]['h-index']\n",
    "                    h_index_sum += author_h_index\n",
    "        else:\n",
    "            articles_no_author.append(article_id)  # add to list \n",
    "\n",
    "        citations.append(n_citation)\n",
    "        if n_authors > 0:\n",
    "            average_hindex_lst.append(h_index_sum / n_authors)\n",
    "        else:\n",
    "            average_hindex_lst.append(0)\n",
    "            \n",
    "    return (citations, average_hindex_lst, articles_no_author)"
   ]
  },
  {
   "cell_type": "code",
   "execution_count": 30,
   "id": "a391229b",
   "metadata": {},
   "outputs": [],
   "source": [
    "progress_bar2 = IntProgress(min=0, max=n_parts) # instantiate the bar"
   ]
  },
  {
   "cell_type": "code",
   "execution_count": 31,
   "id": "ce0eba41",
   "metadata": {},
   "outputs": [
    {
     "data": {
      "application/vnd.jupyter.widget-view+json": {
       "model_id": "ac0cb616953e43febc47d8be13524429",
       "version_major": 2,
       "version_minor": 0
      },
      "text/plain": [
       "IntProgress(value=0, max=108)"
      ]
     },
     "metadata": {},
     "output_type": "display_data"
    },
    {
     "ename": "ValueError",
     "evalue": "Expected object or value",
     "output_type": "error",
     "traceback": [
      "\u001b[0;31m---------------------------------------------------------------------------\u001b[0m",
      "\u001b[0;31mValueError\u001b[0m                                Traceback (most recent call last)",
      "\u001b[0;32m<ipython-input-31-3621868929a8>\u001b[0m in \u001b[0;36m<module>\u001b[0;34m\u001b[0m\n\u001b[1;32m      1\u001b[0m \u001b[0mdisplay\u001b[0m\u001b[0;34m(\u001b[0m\u001b[0mprogress_bar2\u001b[0m\u001b[0;34m)\u001b[0m\u001b[0;34m\u001b[0m\u001b[0;34m\u001b[0m\u001b[0m\n\u001b[1;32m      2\u001b[0m \u001b[0;32mfor\u001b[0m \u001b[0mind_part\u001b[0m \u001b[0;32min\u001b[0m \u001b[0mrange\u001b[0m\u001b[0;34m(\u001b[0m\u001b[0mn_parts\u001b[0m\u001b[0;34m)\u001b[0m\u001b[0;34m:\u001b[0m\u001b[0;34m\u001b[0m\u001b[0;34m\u001b[0m\u001b[0m\n\u001b[0;32m----> 3\u001b[0;31m     \u001b[0mpart_i\u001b[0m \u001b[0;34m=\u001b[0m \u001b[0mpd\u001b[0m\u001b[0;34m.\u001b[0m\u001b[0mread_json\u001b[0m\u001b[0;34m(\u001b[0m\u001b[0;34mf\"data/dblpv13_{ind_part}.json\"\u001b[0m\u001b[0;34m)\u001b[0m\u001b[0;34m\u001b[0m\u001b[0;34m\u001b[0m\u001b[0m\n\u001b[0m\u001b[1;32m      4\u001b[0m     \u001b[0;34m(\u001b[0m\u001b[0mcitations_lst\u001b[0m\u001b[0;34m,\u001b[0m \u001b[0maverage_hindex_lst\u001b[0m\u001b[0;34m,\u001b[0m \u001b[0marticles_no_author\u001b[0m\u001b[0;34m)\u001b[0m \u001b[0;34m=\u001b[0m\u001b[0;31m \u001b[0m\u001b[0;31m\\\u001b[0m\u001b[0;34m\u001b[0m\u001b[0;34m\u001b[0m\u001b[0m\n\u001b[1;32m      5\u001b[0m                 \u001b[0mconnection_citations_hindex\u001b[0m\u001b[0;34m(\u001b[0m\u001b[0mpart_i\u001b[0m\u001b[0;34m,\u001b[0m \u001b[0mauthor_id_hindex_json\u001b[0m\u001b[0;34m,\u001b[0m \u001b[0mcitations_lst\u001b[0m\u001b[0;34m,\u001b[0m \u001b[0maverage_hindex_lst\u001b[0m\u001b[0;34m,\u001b[0m \u001b[0marticles_no_author\u001b[0m\u001b[0;34m)\u001b[0m\u001b[0;34m\u001b[0m\u001b[0;34m\u001b[0m\u001b[0m\n",
      "\u001b[0;32m/opt/anaconda3/lib/python3.8/site-packages/pandas/util/_decorators.py\u001b[0m in \u001b[0;36mwrapper\u001b[0;34m(*args, **kwargs)\u001b[0m\n\u001b[1;32m    209\u001b[0m                 \u001b[0;32melse\u001b[0m\u001b[0;34m:\u001b[0m\u001b[0;34m\u001b[0m\u001b[0;34m\u001b[0m\u001b[0m\n\u001b[1;32m    210\u001b[0m                     \u001b[0mkwargs\u001b[0m\u001b[0;34m[\u001b[0m\u001b[0mnew_arg_name\u001b[0m\u001b[0;34m]\u001b[0m \u001b[0;34m=\u001b[0m \u001b[0mnew_arg_value\u001b[0m\u001b[0;34m\u001b[0m\u001b[0;34m\u001b[0m\u001b[0m\n\u001b[0;32m--> 211\u001b[0;31m             \u001b[0;32mreturn\u001b[0m \u001b[0mfunc\u001b[0m\u001b[0;34m(\u001b[0m\u001b[0;34m*\u001b[0m\u001b[0margs\u001b[0m\u001b[0;34m,\u001b[0m \u001b[0;34m**\u001b[0m\u001b[0mkwargs\u001b[0m\u001b[0;34m)\u001b[0m\u001b[0;34m\u001b[0m\u001b[0;34m\u001b[0m\u001b[0m\n\u001b[0m\u001b[1;32m    212\u001b[0m \u001b[0;34m\u001b[0m\u001b[0m\n\u001b[1;32m    213\u001b[0m         \u001b[0;32mreturn\u001b[0m \u001b[0mcast\u001b[0m\u001b[0;34m(\u001b[0m\u001b[0mF\u001b[0m\u001b[0;34m,\u001b[0m \u001b[0mwrapper\u001b[0m\u001b[0;34m)\u001b[0m\u001b[0;34m\u001b[0m\u001b[0;34m\u001b[0m\u001b[0m\n",
      "\u001b[0;32m/opt/anaconda3/lib/python3.8/site-packages/pandas/util/_decorators.py\u001b[0m in \u001b[0;36mwrapper\u001b[0;34m(*args, **kwargs)\u001b[0m\n\u001b[1;32m    315\u001b[0m                     \u001b[0mstacklevel\u001b[0m\u001b[0;34m=\u001b[0m\u001b[0mfind_stack_level\u001b[0m\u001b[0;34m(\u001b[0m\u001b[0minspect\u001b[0m\u001b[0;34m.\u001b[0m\u001b[0mcurrentframe\u001b[0m\u001b[0;34m(\u001b[0m\u001b[0;34m)\u001b[0m\u001b[0;34m)\u001b[0m\u001b[0;34m,\u001b[0m\u001b[0;34m\u001b[0m\u001b[0;34m\u001b[0m\u001b[0m\n\u001b[1;32m    316\u001b[0m                 )\n\u001b[0;32m--> 317\u001b[0;31m             \u001b[0;32mreturn\u001b[0m \u001b[0mfunc\u001b[0m\u001b[0;34m(\u001b[0m\u001b[0;34m*\u001b[0m\u001b[0margs\u001b[0m\u001b[0;34m,\u001b[0m \u001b[0;34m**\u001b[0m\u001b[0mkwargs\u001b[0m\u001b[0;34m)\u001b[0m\u001b[0;34m\u001b[0m\u001b[0;34m\u001b[0m\u001b[0m\n\u001b[0m\u001b[1;32m    318\u001b[0m \u001b[0;34m\u001b[0m\u001b[0m\n\u001b[1;32m    319\u001b[0m         \u001b[0;32mreturn\u001b[0m \u001b[0mwrapper\u001b[0m\u001b[0;34m\u001b[0m\u001b[0;34m\u001b[0m\u001b[0m\n",
      "\u001b[0;32m/opt/anaconda3/lib/python3.8/site-packages/pandas/io/json/_json.py\u001b[0m in \u001b[0;36mread_json\u001b[0;34m(path_or_buf, orient, typ, dtype, convert_axes, convert_dates, keep_default_dates, numpy, precise_float, date_unit, encoding, encoding_errors, lines, chunksize, compression, nrows, storage_options)\u001b[0m\n\u001b[1;32m    755\u001b[0m \u001b[0;34m\u001b[0m\u001b[0m\n\u001b[1;32m    756\u001b[0m     \u001b[0;32mwith\u001b[0m \u001b[0mjson_reader\u001b[0m\u001b[0;34m:\u001b[0m\u001b[0;34m\u001b[0m\u001b[0;34m\u001b[0m\u001b[0m\n\u001b[0;32m--> 757\u001b[0;31m         \u001b[0;32mreturn\u001b[0m \u001b[0mjson_reader\u001b[0m\u001b[0;34m.\u001b[0m\u001b[0mread\u001b[0m\u001b[0;34m(\u001b[0m\u001b[0;34m)\u001b[0m\u001b[0;34m\u001b[0m\u001b[0;34m\u001b[0m\u001b[0m\n\u001b[0m\u001b[1;32m    758\u001b[0m \u001b[0;34m\u001b[0m\u001b[0m\n\u001b[1;32m    759\u001b[0m \u001b[0;34m\u001b[0m\u001b[0m\n",
      "\u001b[0;32m/opt/anaconda3/lib/python3.8/site-packages/pandas/io/json/_json.py\u001b[0m in \u001b[0;36mread\u001b[0;34m(self)\u001b[0m\n\u001b[1;32m    913\u001b[0m                 \u001b[0mobj\u001b[0m \u001b[0;34m=\u001b[0m \u001b[0mself\u001b[0m\u001b[0;34m.\u001b[0m\u001b[0m_get_object_parser\u001b[0m\u001b[0;34m(\u001b[0m\u001b[0mself\u001b[0m\u001b[0;34m.\u001b[0m\u001b[0m_combine_lines\u001b[0m\u001b[0;34m(\u001b[0m\u001b[0mdata_lines\u001b[0m\u001b[0;34m)\u001b[0m\u001b[0;34m)\u001b[0m\u001b[0;34m\u001b[0m\u001b[0;34m\u001b[0m\u001b[0m\n\u001b[1;32m    914\u001b[0m         \u001b[0;32melse\u001b[0m\u001b[0;34m:\u001b[0m\u001b[0;34m\u001b[0m\u001b[0;34m\u001b[0m\u001b[0m\n\u001b[0;32m--> 915\u001b[0;31m             \u001b[0mobj\u001b[0m \u001b[0;34m=\u001b[0m \u001b[0mself\u001b[0m\u001b[0;34m.\u001b[0m\u001b[0m_get_object_parser\u001b[0m\u001b[0;34m(\u001b[0m\u001b[0mself\u001b[0m\u001b[0;34m.\u001b[0m\u001b[0mdata\u001b[0m\u001b[0;34m)\u001b[0m\u001b[0;34m\u001b[0m\u001b[0;34m\u001b[0m\u001b[0m\n\u001b[0m\u001b[1;32m    916\u001b[0m         \u001b[0mself\u001b[0m\u001b[0;34m.\u001b[0m\u001b[0mclose\u001b[0m\u001b[0;34m(\u001b[0m\u001b[0;34m)\u001b[0m\u001b[0;34m\u001b[0m\u001b[0;34m\u001b[0m\u001b[0m\n\u001b[1;32m    917\u001b[0m         \u001b[0;32mreturn\u001b[0m \u001b[0mobj\u001b[0m\u001b[0;34m\u001b[0m\u001b[0;34m\u001b[0m\u001b[0m\n",
      "\u001b[0;32m/opt/anaconda3/lib/python3.8/site-packages/pandas/io/json/_json.py\u001b[0m in \u001b[0;36m_get_object_parser\u001b[0;34m(self, json)\u001b[0m\n\u001b[1;32m    935\u001b[0m         \u001b[0mobj\u001b[0m \u001b[0;34m=\u001b[0m \u001b[0;32mNone\u001b[0m\u001b[0;34m\u001b[0m\u001b[0;34m\u001b[0m\u001b[0m\n\u001b[1;32m    936\u001b[0m         \u001b[0;32mif\u001b[0m \u001b[0mtyp\u001b[0m \u001b[0;34m==\u001b[0m \u001b[0;34m\"frame\"\u001b[0m\u001b[0;34m:\u001b[0m\u001b[0;34m\u001b[0m\u001b[0;34m\u001b[0m\u001b[0m\n\u001b[0;32m--> 937\u001b[0;31m             \u001b[0mobj\u001b[0m \u001b[0;34m=\u001b[0m \u001b[0mFrameParser\u001b[0m\u001b[0;34m(\u001b[0m\u001b[0mjson\u001b[0m\u001b[0;34m,\u001b[0m \u001b[0;34m**\u001b[0m\u001b[0mkwargs\u001b[0m\u001b[0;34m)\u001b[0m\u001b[0;34m.\u001b[0m\u001b[0mparse\u001b[0m\u001b[0;34m(\u001b[0m\u001b[0;34m)\u001b[0m\u001b[0;34m\u001b[0m\u001b[0;34m\u001b[0m\u001b[0m\n\u001b[0m\u001b[1;32m    938\u001b[0m \u001b[0;34m\u001b[0m\u001b[0m\n\u001b[1;32m    939\u001b[0m         \u001b[0;32mif\u001b[0m \u001b[0mtyp\u001b[0m \u001b[0;34m==\u001b[0m \u001b[0;34m\"series\"\u001b[0m \u001b[0;32mor\u001b[0m \u001b[0mobj\u001b[0m \u001b[0;32mis\u001b[0m \u001b[0;32mNone\u001b[0m\u001b[0;34m:\u001b[0m\u001b[0;34m\u001b[0m\u001b[0;34m\u001b[0m\u001b[0m\n",
      "\u001b[0;32m/opt/anaconda3/lib/python3.8/site-packages/pandas/io/json/_json.py\u001b[0m in \u001b[0;36mparse\u001b[0;34m(self)\u001b[0m\n\u001b[1;32m   1062\u001b[0m             \u001b[0mself\u001b[0m\u001b[0;34m.\u001b[0m\u001b[0m_parse_numpy\u001b[0m\u001b[0;34m(\u001b[0m\u001b[0;34m)\u001b[0m\u001b[0;34m\u001b[0m\u001b[0;34m\u001b[0m\u001b[0m\n\u001b[1;32m   1063\u001b[0m         \u001b[0;32melse\u001b[0m\u001b[0;34m:\u001b[0m\u001b[0;34m\u001b[0m\u001b[0;34m\u001b[0m\u001b[0m\n\u001b[0;32m-> 1064\u001b[0;31m             \u001b[0mself\u001b[0m\u001b[0;34m.\u001b[0m\u001b[0m_parse_no_numpy\u001b[0m\u001b[0;34m(\u001b[0m\u001b[0;34m)\u001b[0m\u001b[0;34m\u001b[0m\u001b[0;34m\u001b[0m\u001b[0m\n\u001b[0m\u001b[1;32m   1065\u001b[0m \u001b[0;34m\u001b[0m\u001b[0m\n\u001b[1;32m   1066\u001b[0m         \u001b[0;32mif\u001b[0m \u001b[0mself\u001b[0m\u001b[0;34m.\u001b[0m\u001b[0mobj\u001b[0m \u001b[0;32mis\u001b[0m \u001b[0;32mNone\u001b[0m\u001b[0;34m:\u001b[0m\u001b[0;34m\u001b[0m\u001b[0;34m\u001b[0m\u001b[0m\n",
      "\u001b[0;32m/opt/anaconda3/lib/python3.8/site-packages/pandas/io/json/_json.py\u001b[0m in \u001b[0;36m_parse_no_numpy\u001b[0;34m(self)\u001b[0m\n\u001b[1;32m   1319\u001b[0m         \u001b[0;32mif\u001b[0m \u001b[0morient\u001b[0m \u001b[0;34m==\u001b[0m \u001b[0;34m\"columns\"\u001b[0m\u001b[0;34m:\u001b[0m\u001b[0;34m\u001b[0m\u001b[0;34m\u001b[0m\u001b[0m\n\u001b[1;32m   1320\u001b[0m             self.obj = DataFrame(\n\u001b[0;32m-> 1321\u001b[0;31m                 \u001b[0mloads\u001b[0m\u001b[0;34m(\u001b[0m\u001b[0mjson\u001b[0m\u001b[0;34m,\u001b[0m \u001b[0mprecise_float\u001b[0m\u001b[0;34m=\u001b[0m\u001b[0mself\u001b[0m\u001b[0;34m.\u001b[0m\u001b[0mprecise_float\u001b[0m\u001b[0;34m)\u001b[0m\u001b[0;34m,\u001b[0m \u001b[0mdtype\u001b[0m\u001b[0;34m=\u001b[0m\u001b[0;32mNone\u001b[0m\u001b[0;34m\u001b[0m\u001b[0;34m\u001b[0m\u001b[0m\n\u001b[0m\u001b[1;32m   1322\u001b[0m             )\n\u001b[1;32m   1323\u001b[0m         \u001b[0;32melif\u001b[0m \u001b[0morient\u001b[0m \u001b[0;34m==\u001b[0m \u001b[0;34m\"split\"\u001b[0m\u001b[0;34m:\u001b[0m\u001b[0;34m\u001b[0m\u001b[0;34m\u001b[0m\u001b[0m\n",
      "\u001b[0;31mValueError\u001b[0m: Expected object or value"
     ]
    }
   ],
   "source": [
    "display(progress_bar2)\n",
    "for ind_part in range(n_parts):\n",
    "    part_i = pd.read_json(f\"data/dblpv13_{ind_part}.json\")\n",
    "    (citations_lst, average_hindex_lst, articles_no_author) = \\\n",
    "                connection_citations_hindex(part_i, author_id_hindex_json, citations_lst, average_hindex_lst, articles_no_author)\n",
    "    progress_bar2.value = ind_part"
   ]
  },
  {
   "cell_type": "markdown",
   "id": "e5bd79c2",
   "metadata": {},
   "source": [
    "**The same problem again!**"
   ]
  },
  {
   "cell_type": "code",
   "execution_count": 32,
   "id": "5a859d5d",
   "metadata": {},
   "outputs": [
    {
     "data": {
      "text/plain": [
       "5350000"
      ]
     },
     "execution_count": 32,
     "metadata": {},
     "output_type": "execute_result"
    }
   ],
   "source": [
    "len(citations_lst)"
   ]
  },
  {
   "cell_type": "code",
   "execution_count": 33,
   "id": "22218f5b",
   "metadata": {},
   "outputs": [
    {
     "data": {
      "text/plain": [
       "5350000"
      ]
     },
     "execution_count": 33,
     "metadata": {},
     "output_type": "execute_result"
    }
   ],
   "source": [
    "len(average_hindex_lst)"
   ]
  },
  {
   "cell_type": "code",
   "execution_count": 48,
   "id": "533a1cd7",
   "metadata": {},
   "outputs": [
    {
     "data": {
      "text/plain": [
       "176.0"
      ]
     },
     "execution_count": 48,
     "metadata": {},
     "output_type": "execute_result"
    }
   ],
   "source": [
    "max(average_hindex_lst)"
   ]
  },
  {
   "cell_type": "code",
   "execution_count": 44,
   "id": "d495d7f6",
   "metadata": {},
   "outputs": [],
   "source": [
    "import math"
   ]
  },
  {
   "cell_type": "code",
   "execution_count": 46,
   "id": "fa41c32e",
   "metadata": {},
   "outputs": [],
   "source": [
    "with open('av_hindex_n_citations.txt', 'w') as f:\n",
    "    for i in range(len(average_hindex_lst)):\n",
    "        f.write(str(round(average_hindex_lst[i], 3)))\n",
    "        f.write('\\t')\n",
    "        if math.isnan(citations_lst[i]):\n",
    "            f.write('0')\n",
    "#             print('nan')\n",
    "        else:\n",
    "            f.write(str(citations_lst[i]))\n",
    "        f.write('\\n')"
   ]
  },
  {
   "cell_type": "code",
   "execution_count": null,
   "id": "1723a868",
   "metadata": {},
   "outputs": [],
   "source": []
  }
 ],
 "metadata": {
  "kernelspec": {
   "display_name": "Python 3",
   "language": "python",
   "name": "python3"
  },
  "language_info": {
   "codemirror_mode": {
    "name": "ipython",
    "version": 3
   },
   "file_extension": ".py",
   "mimetype": "text/x-python",
   "name": "python",
   "nbconvert_exporter": "python",
   "pygments_lexer": "ipython3",
   "version": "3.8.8"
  }
 },
 "nbformat": 4,
 "nbformat_minor": 5
}
